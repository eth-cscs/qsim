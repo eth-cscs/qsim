{
 "cells": [
  {
   "cell_type": "markdown",
   "metadata": {},
   "source": [
    "## Qiskit Program: Hadamard Benchmark\n",
    "\n",
    "Here we have a quantum circuit which creates an equal superposition of $n$ qubits, which then are all measured.\n",
    "\n",
    "We expect every measurement output to be equally probable."
   ]
  },
  {
   "cell_type": "code",
   "execution_count": 2,
   "metadata": {},
   "outputs": [],
   "source": [
    "#python packages\n",
    "import matplotlib.pyplot as plt\n",
    "%matplotlib inline\n",
    "import numpy as np\n",
    "from math import pi\n",
    "import time"
   ]
  },
  {
   "cell_type": "code",
   "execution_count": 3,
   "metadata": {},
   "outputs": [],
   "source": [
    "#qiskit packages\n",
    "from qiskit import QuantumCircuit, ClassicalRegister, QuantumRegister, execute\n",
    "from qiskit.tools.visualization import circuit_drawer\n",
    "from qiskit import BasicAer\n",
    "from qiskit.quantum_info import Pauli, state_fidelity, basis_state, process_fidelity"
   ]
  },
  {
   "cell_type": "code",
   "execution_count": 4,
   "metadata": {},
   "outputs": [
    {
     "name": "stdout",
     "output_type": "stream",
     "text": [
      "qasm_simulator\n",
      "statevector_simulator\n",
      "unitary_simulator\n"
     ]
    }
   ],
   "source": [
    "from qiskit import Aer\n",
    "for backend in Aer.backends():\n",
    "    print(backend.name())"
   ]
  },
  {
   "cell_type": "code",
   "execution_count": 16,
   "metadata": {},
   "outputs": [
    {
     "data": {
      "text/html": [
       "<pre style=\"word-wrap: normal;white-space: pre;line-height: 15px;\">                   ┌───┐\n",
       "q3_0: |0>──────────┤ H ├\n",
       "              ┌───┐└───┘\n",
       "q3_1: |0>─────┤ H ├─────\n",
       "         ┌───┐└───┘     \n",
       "q3_2: |0>┤ H ├──────────\n",
       "         └───┘          </pre>"
      ],
      "text/plain": [
       "<qiskit.tools.visualization._text.TextDrawing at 0x1f79d3f7470>"
      ]
     },
     "execution_count": 16,
     "metadata": {},
     "output_type": "execute_result"
    }
   ],
   "source": [
    "#main circuit\n",
    "n = 3 #number of qubits\n",
    "q = QuantumRegister(n) #create quantum register with n qubits\n",
    "circ = QuantumCircuit(q) #create a circuit using the quantum register\n",
    "circ.h(q) #apply hadamard on all qubits in q\n",
    "circ.draw()"
   ]
  },
  {
   "cell_type": "code",
   "execution_count": 17,
   "metadata": {},
   "outputs": [
    {
     "data": {
      "text/html": [
       "<pre style=\"word-wrap: normal;white-space: pre;line-height: 15px;\">                         ┌───┐┌─┐\n",
       "q3_0: |0>────────────────┤ H ├┤M├\n",
       "                 ┌───┐┌─┐└───┘└╥┘\n",
       "q3_1: |0>────────┤ H ├┤M├──────╫─\n",
       "         ┌───┐┌─┐└───┘└╥┘      ║ \n",
       "q3_2: |0>┤ H ├┤M├──────╫───────╫─\n",
       "         └───┘└╥┘      ║       ║ \n",
       " c2_0: 0 ══════╬═══════╬═══════╩═\n",
       "               ║       ║         \n",
       " c2_1: 0 ══════╬═══════╩═════════\n",
       "               ║                 \n",
       " c2_2: 0 ══════╩═════════════════\n",
       "                                 </pre>"
      ],
      "text/plain": [
       "<qiskit.tools.visualization._text.TextDrawing at 0x1f79d3e5d30>"
      ]
     },
     "execution_count": 17,
     "metadata": {},
     "output_type": "execute_result"
    }
   ],
   "source": [
    "#measurement circuit\n",
    "c = ClassicalRegister(n) #create classical register with n bits\n",
    "meas = QuantumCircuit(q, c)\n",
    "meas.measure(q, c) #measure the qubits in q and save the output in c\n",
    "\n",
    "qc = circ + meas #append the measurement circuit to the main circuit\n",
    "\n",
    "qc.draw()"
   ]
  },
  {
   "cell_type": "code",
   "execution_count": 18,
   "metadata": {},
   "outputs": [],
   "source": [
    "#time management\n",
    "timerep = 10"
   ]
  },
  {
   "cell_type": "code",
   "execution_count": 19,
   "metadata": {},
   "outputs": [
    {
     "name": "stdout",
     "output_type": "stream",
     "text": [
      "Counts =  {'010': 34, '001': 300, '110': 40, '101': 63, '000': 157, '111': 178, '011': 172, '100': 80}\n",
      "elapsed time =  0.06080796718597412\n"
     ]
    }
   ],
   "source": [
    "backend = BasicAer.get_backend('qasm_simulator') #choose the backend\n",
    "t = time.time()\n",
    "for i in range(timerep):\n",
    "    job = execute(qc, backend, shots=1024) #run the quantum circuit 'shots' time\n",
    "elapsed = time.time() - t\n",
    "counts = job.result().get_counts(qc) #get output count statistics\n",
    "print(\"Counts = \", counts)\n",
    "print(\"elapsed time = \", elapsed/timerep)"
   ]
  },
  {
   "cell_type": "code",
   "execution_count": null,
   "metadata": {},
   "outputs": [],
   "source": []
  }
 ],
 "metadata": {
  "kernelspec": {
   "display_name": "Python 3",
   "language": "python",
   "name": "python3"
  },
  "language_info": {
   "codemirror_mode": {
    "name": "ipython",
    "version": 3
   },
   "file_extension": ".py",
   "mimetype": "text/x-python",
   "name": "python",
   "nbconvert_exporter": "python",
   "pygments_lexer": "ipython3",
   "version": "3.7.0"
  }
 },
 "nbformat": 4,
 "nbformat_minor": 2
}
